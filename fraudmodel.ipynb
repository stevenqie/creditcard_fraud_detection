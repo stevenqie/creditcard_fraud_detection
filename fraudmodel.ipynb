{
 "cells": [
  {
   "cell_type": "markdown",
   "metadata": {},
   "source": [
    "Dataset can be downloaded here: https://www.kaggle.com/datasets/mlg-ulb/creditcardfraud"
   ]
  },
  {
   "cell_type": "code",
   "execution_count": 1,
   "metadata": {},
   "outputs": [],
   "source": [
    "import numpy as np\n",
    "import pandas as pd\n",
    "import matplotlib.pyplot as plt\n",
    "\n",
    "from sklearn.model_selection import train_test_split\n",
    "from sklearn.ensemble import RandomForestClassifier\n",
    "from sklearn.linear_model import LogisticRegression \n",
    "from sklearn.neighbors import KNeighborsClassifier \n",
    "from sklearn.tree import DecisionTreeClassifier \n",
    "from sklearn.svm import SVC \n",
    "\n",
    "\n",
    "\n",
    "from sklearn.metrics import confusion_matrix, accuracy_score, f1_score\n"
   ]
  },
  {
   "cell_type": "markdown",
   "metadata": {},
   "source": [
    "Preprocessing"
   ]
  },
  {
   "cell_type": "code",
   "execution_count": 2,
   "metadata": {},
   "outputs": [],
   "source": [
    "df = pd.read_csv(\"creditcard.csv\")\n"
   ]
  },
  {
   "cell_type": "code",
   "execution_count": 3,
   "metadata": {},
   "outputs": [],
   "source": [
    "df.drop(['Time'], axis = 1, inplace = True)\n",
    "df.drop_duplicates(inplace = True )"
   ]
  },
  {
   "cell_type": "code",
   "execution_count": 4,
   "metadata": {},
   "outputs": [
    {
     "name": "stdout",
     "output_type": "stream",
     "text": [
      "(275663, 30)\n"
     ]
    },
    {
     "data": {
      "text/html": [
       "<div>\n",
       "<style scoped>\n",
       "    .dataframe tbody tr th:only-of-type {\n",
       "        vertical-align: middle;\n",
       "    }\n",
       "\n",
       "    .dataframe tbody tr th {\n",
       "        vertical-align: top;\n",
       "    }\n",
       "\n",
       "    .dataframe thead th {\n",
       "        text-align: right;\n",
       "    }\n",
       "</style>\n",
       "<table border=\"1\" class=\"dataframe\">\n",
       "  <thead>\n",
       "    <tr style=\"text-align: right;\">\n",
       "      <th></th>\n",
       "      <th>V1</th>\n",
       "      <th>V2</th>\n",
       "      <th>V3</th>\n",
       "      <th>V4</th>\n",
       "      <th>V5</th>\n",
       "      <th>V6</th>\n",
       "      <th>V7</th>\n",
       "      <th>V8</th>\n",
       "      <th>V9</th>\n",
       "      <th>V10</th>\n",
       "      <th>...</th>\n",
       "      <th>V21</th>\n",
       "      <th>V22</th>\n",
       "      <th>V23</th>\n",
       "      <th>V24</th>\n",
       "      <th>V25</th>\n",
       "      <th>V26</th>\n",
       "      <th>V27</th>\n",
       "      <th>V28</th>\n",
       "      <th>Amount</th>\n",
       "      <th>Class</th>\n",
       "    </tr>\n",
       "  </thead>\n",
       "  <tbody>\n",
       "    <tr>\n",
       "      <th>0</th>\n",
       "      <td>-1.359807</td>\n",
       "      <td>-0.072781</td>\n",
       "      <td>2.536347</td>\n",
       "      <td>1.378155</td>\n",
       "      <td>-0.338321</td>\n",
       "      <td>0.462388</td>\n",
       "      <td>0.239599</td>\n",
       "      <td>0.098698</td>\n",
       "      <td>0.363787</td>\n",
       "      <td>0.090794</td>\n",
       "      <td>...</td>\n",
       "      <td>-0.018307</td>\n",
       "      <td>0.277838</td>\n",
       "      <td>-0.110474</td>\n",
       "      <td>0.066928</td>\n",
       "      <td>0.128539</td>\n",
       "      <td>-0.189115</td>\n",
       "      <td>0.133558</td>\n",
       "      <td>-0.021053</td>\n",
       "      <td>149.62</td>\n",
       "      <td>0</td>\n",
       "    </tr>\n",
       "    <tr>\n",
       "      <th>1</th>\n",
       "      <td>1.191857</td>\n",
       "      <td>0.266151</td>\n",
       "      <td>0.166480</td>\n",
       "      <td>0.448154</td>\n",
       "      <td>0.060018</td>\n",
       "      <td>-0.082361</td>\n",
       "      <td>-0.078803</td>\n",
       "      <td>0.085102</td>\n",
       "      <td>-0.255425</td>\n",
       "      <td>-0.166974</td>\n",
       "      <td>...</td>\n",
       "      <td>-0.225775</td>\n",
       "      <td>-0.638672</td>\n",
       "      <td>0.101288</td>\n",
       "      <td>-0.339846</td>\n",
       "      <td>0.167170</td>\n",
       "      <td>0.125895</td>\n",
       "      <td>-0.008983</td>\n",
       "      <td>0.014724</td>\n",
       "      <td>2.69</td>\n",
       "      <td>0</td>\n",
       "    </tr>\n",
       "    <tr>\n",
       "      <th>2</th>\n",
       "      <td>-1.358354</td>\n",
       "      <td>-1.340163</td>\n",
       "      <td>1.773209</td>\n",
       "      <td>0.379780</td>\n",
       "      <td>-0.503198</td>\n",
       "      <td>1.800499</td>\n",
       "      <td>0.791461</td>\n",
       "      <td>0.247676</td>\n",
       "      <td>-1.514654</td>\n",
       "      <td>0.207643</td>\n",
       "      <td>...</td>\n",
       "      <td>0.247998</td>\n",
       "      <td>0.771679</td>\n",
       "      <td>0.909412</td>\n",
       "      <td>-0.689281</td>\n",
       "      <td>-0.327642</td>\n",
       "      <td>-0.139097</td>\n",
       "      <td>-0.055353</td>\n",
       "      <td>-0.059752</td>\n",
       "      <td>378.66</td>\n",
       "      <td>0</td>\n",
       "    </tr>\n",
       "    <tr>\n",
       "      <th>3</th>\n",
       "      <td>-0.966272</td>\n",
       "      <td>-0.185226</td>\n",
       "      <td>1.792993</td>\n",
       "      <td>-0.863291</td>\n",
       "      <td>-0.010309</td>\n",
       "      <td>1.247203</td>\n",
       "      <td>0.237609</td>\n",
       "      <td>0.377436</td>\n",
       "      <td>-1.387024</td>\n",
       "      <td>-0.054952</td>\n",
       "      <td>...</td>\n",
       "      <td>-0.108300</td>\n",
       "      <td>0.005274</td>\n",
       "      <td>-0.190321</td>\n",
       "      <td>-1.175575</td>\n",
       "      <td>0.647376</td>\n",
       "      <td>-0.221929</td>\n",
       "      <td>0.062723</td>\n",
       "      <td>0.061458</td>\n",
       "      <td>123.50</td>\n",
       "      <td>0</td>\n",
       "    </tr>\n",
       "    <tr>\n",
       "      <th>4</th>\n",
       "      <td>-1.158233</td>\n",
       "      <td>0.877737</td>\n",
       "      <td>1.548718</td>\n",
       "      <td>0.403034</td>\n",
       "      <td>-0.407193</td>\n",
       "      <td>0.095921</td>\n",
       "      <td>0.592941</td>\n",
       "      <td>-0.270533</td>\n",
       "      <td>0.817739</td>\n",
       "      <td>0.753074</td>\n",
       "      <td>...</td>\n",
       "      <td>-0.009431</td>\n",
       "      <td>0.798278</td>\n",
       "      <td>-0.137458</td>\n",
       "      <td>0.141267</td>\n",
       "      <td>-0.206010</td>\n",
       "      <td>0.502292</td>\n",
       "      <td>0.219422</td>\n",
       "      <td>0.215153</td>\n",
       "      <td>69.99</td>\n",
       "      <td>0</td>\n",
       "    </tr>\n",
       "  </tbody>\n",
       "</table>\n",
       "<p>5 rows × 30 columns</p>\n",
       "</div>"
      ],
      "text/plain": [
       "         V1        V2        V3        V4        V5        V6        V7  \\\n",
       "0 -1.359807 -0.072781  2.536347  1.378155 -0.338321  0.462388  0.239599   \n",
       "1  1.191857  0.266151  0.166480  0.448154  0.060018 -0.082361 -0.078803   \n",
       "2 -1.358354 -1.340163  1.773209  0.379780 -0.503198  1.800499  0.791461   \n",
       "3 -0.966272 -0.185226  1.792993 -0.863291 -0.010309  1.247203  0.237609   \n",
       "4 -1.158233  0.877737  1.548718  0.403034 -0.407193  0.095921  0.592941   \n",
       "\n",
       "         V8        V9       V10  ...       V21       V22       V23       V24  \\\n",
       "0  0.098698  0.363787  0.090794  ... -0.018307  0.277838 -0.110474  0.066928   \n",
       "1  0.085102 -0.255425 -0.166974  ... -0.225775 -0.638672  0.101288 -0.339846   \n",
       "2  0.247676 -1.514654  0.207643  ...  0.247998  0.771679  0.909412 -0.689281   \n",
       "3  0.377436 -1.387024 -0.054952  ... -0.108300  0.005274 -0.190321 -1.175575   \n",
       "4 -0.270533  0.817739  0.753074  ... -0.009431  0.798278 -0.137458  0.141267   \n",
       "\n",
       "        V25       V26       V27       V28  Amount  Class  \n",
       "0  0.128539 -0.189115  0.133558 -0.021053  149.62      0  \n",
       "1  0.167170  0.125895 -0.008983  0.014724    2.69      0  \n",
       "2 -0.327642 -0.139097 -0.055353 -0.059752  378.66      0  \n",
       "3  0.647376 -0.221929  0.062723  0.061458  123.50      0  \n",
       "4 -0.206010  0.502292  0.219422  0.215153   69.99      0  \n",
       "\n",
       "[5 rows x 30 columns]"
      ]
     },
     "execution_count": 4,
     "metadata": {},
     "output_type": "execute_result"
    }
   ],
   "source": [
    "print(df.shape)\n",
    "df.head()"
   ]
  },
  {
   "cell_type": "code",
   "execution_count": 5,
   "metadata": {},
   "outputs": [],
   "source": [
    "#may have to scale the data here "
   ]
  },
  {
   "cell_type": "code",
   "execution_count": 6,
   "metadata": {},
   "outputs": [
    {
     "name": "stdout",
     "output_type": "stream",
     "text": [
      "<class 'pandas.core.frame.DataFrame'>\n",
      "Int64Index: 275663 entries, 0 to 284806\n",
      "Data columns (total 30 columns):\n",
      " #   Column  Non-Null Count   Dtype  \n",
      "---  ------  --------------   -----  \n",
      " 0   V1      275663 non-null  float64\n",
      " 1   V2      275663 non-null  float64\n",
      " 2   V3      275663 non-null  float64\n",
      " 3   V4      275663 non-null  float64\n",
      " 4   V5      275663 non-null  float64\n",
      " 5   V6      275663 non-null  float64\n",
      " 6   V7      275663 non-null  float64\n",
      " 7   V8      275663 non-null  float64\n",
      " 8   V9      275663 non-null  float64\n",
      " 9   V10     275663 non-null  float64\n",
      " 10  V11     275663 non-null  float64\n",
      " 11  V12     275663 non-null  float64\n",
      " 12  V13     275663 non-null  float64\n",
      " 13  V14     275663 non-null  float64\n",
      " 14  V15     275663 non-null  float64\n",
      " 15  V16     275663 non-null  float64\n",
      " 16  V17     275663 non-null  float64\n",
      " 17  V18     275663 non-null  float64\n",
      " 18  V19     275663 non-null  float64\n",
      " 19  V20     275663 non-null  float64\n",
      " 20  V21     275663 non-null  float64\n",
      " 21  V22     275663 non-null  float64\n",
      " 22  V23     275663 non-null  float64\n",
      " 23  V24     275663 non-null  float64\n",
      " 24  V25     275663 non-null  float64\n",
      " 25  V26     275663 non-null  float64\n",
      " 26  V27     275663 non-null  float64\n",
      " 27  V28     275663 non-null  float64\n",
      " 28  Amount  275663 non-null  float64\n",
      " 29  Class   275663 non-null  int64  \n",
      "dtypes: float64(29), int64(1)\n",
      "memory usage: 65.2 MB\n"
     ]
    }
   ],
   "source": [
    "df.info()"
   ]
  },
  {
   "cell_type": "code",
   "execution_count": 7,
   "metadata": {},
   "outputs": [
    {
     "name": "stdout",
     "output_type": "stream",
     "text": [
      "Total Number of Transactions: 275663\n",
      "Number of Nromal Transactions: 275190\n",
      "Number of Fradulent Transactions: 473\n"
     ]
    }
   ],
   "source": [
    "length = len(df)\n",
    "fraud = df[df.Class == 1]\n",
    "normal = df[df.Class == 0]\n",
    "num_of_normal = len(normal)\n",
    "num_of_fraud = len(fraud)\n",
    "print(\"Total Number of Transactions: \" + str(length))\n",
    "print(\"Number of Nromal Transactions: \" + str(num_of_normal))\n",
    "print(\"Number of Fradulent Transactions: \" + str(num_of_fraud))\n",
    "\n"
   ]
  },
  {
   "cell_type": "code",
   "execution_count": 8,
   "metadata": {},
   "outputs": [
    {
     "name": "stdout",
     "output_type": "stream",
     "text": [
      "Fraud Transaction Details: \n"
     ]
    },
    {
     "data": {
      "text/plain": [
       "count     473.000000\n",
       "mean      123.871860\n",
       "std       260.211041\n",
       "min         0.000000\n",
       "25%         1.000000\n",
       "50%         9.820000\n",
       "75%       105.890000\n",
       "max      2125.870000\n",
       "Name: Amount, dtype: float64"
      ]
     },
     "execution_count": 8,
     "metadata": {},
     "output_type": "execute_result"
    }
   ],
   "source": [
    "print(\"Fraud Transaction Details: \")\n",
    "fraud.Amount.describe()\n"
   ]
  },
  {
   "cell_type": "code",
   "execution_count": 9,
   "metadata": {},
   "outputs": [
    {
     "name": "stdout",
     "output_type": "stream",
     "text": [
      "Normal Transaction Details\n"
     ]
    },
    {
     "data": {
      "text/plain": [
       "count    275190.000000\n",
       "mean         90.521154\n",
       "std         253.198478\n",
       "min           0.000000\n",
       "25%           6.390000\n",
       "50%          23.750000\n",
       "75%          79.900000\n",
       "max       25691.160000\n",
       "Name: Amount, dtype: float64"
      ]
     },
     "execution_count": 9,
     "metadata": {},
     "output_type": "execute_result"
    }
   ],
   "source": [
    "print(\"Normal Transaction Details\")\n",
    "normal.Amount.describe()"
   ]
  },
  {
   "cell_type": "markdown",
   "metadata": {},
   "source": [
    "Accounting for Imbalance of Data"
   ]
  },
  {
   "cell_type": "code",
   "execution_count": 10,
   "metadata": {},
   "outputs": [
    {
     "data": {
      "text/html": [
       "<div>\n",
       "<style scoped>\n",
       "    .dataframe tbody tr th:only-of-type {\n",
       "        vertical-align: middle;\n",
       "    }\n",
       "\n",
       "    .dataframe tbody tr th {\n",
       "        vertical-align: top;\n",
       "    }\n",
       "\n",
       "    .dataframe thead th {\n",
       "        text-align: right;\n",
       "    }\n",
       "</style>\n",
       "<table border=\"1\" class=\"dataframe\">\n",
       "  <thead>\n",
       "    <tr style=\"text-align: right;\">\n",
       "      <th></th>\n",
       "      <th>Class</th>\n",
       "      <th>V1</th>\n",
       "      <th>V2</th>\n",
       "      <th>V3</th>\n",
       "      <th>V4</th>\n",
       "      <th>V5</th>\n",
       "      <th>V6</th>\n",
       "      <th>V7</th>\n",
       "      <th>V8</th>\n",
       "      <th>V9</th>\n",
       "      <th>...</th>\n",
       "      <th>V20</th>\n",
       "      <th>V21</th>\n",
       "      <th>V22</th>\n",
       "      <th>V23</th>\n",
       "      <th>V24</th>\n",
       "      <th>V25</th>\n",
       "      <th>V26</th>\n",
       "      <th>V27</th>\n",
       "      <th>V28</th>\n",
       "      <th>Amount</th>\n",
       "    </tr>\n",
       "  </thead>\n",
       "  <tbody>\n",
       "    <tr>\n",
       "      <th>0</th>\n",
       "      <td>0</td>\n",
       "      <td>-0.029792</td>\n",
       "      <td>-0.008288</td>\n",
       "      <td>0.037131</td>\n",
       "      <td>-0.012054</td>\n",
       "      <td>-0.005596</td>\n",
       "      <td>-0.011768</td>\n",
       "      <td>0.017497</td>\n",
       "      <td>-0.007346</td>\n",
       "      <td>-0.008050</td>\n",
       "      <td>...</td>\n",
       "      <td>0.002717</td>\n",
       "      <td>0.001781</td>\n",
       "      <td>0.005689</td>\n",
       "      <td>-0.001779</td>\n",
       "      <td>-0.006696</td>\n",
       "      <td>-0.004890</td>\n",
       "      <td>-0.000327</td>\n",
       "      <td>0.001557</td>\n",
       "      <td>0.000771</td>\n",
       "      <td>90.521154</td>\n",
       "    </tr>\n",
       "    <tr>\n",
       "      <th>1</th>\n",
       "      <td>1</td>\n",
       "      <td>-4.498280</td>\n",
       "      <td>3.405965</td>\n",
       "      <td>-6.729599</td>\n",
       "      <td>4.472591</td>\n",
       "      <td>-2.957197</td>\n",
       "      <td>-1.432518</td>\n",
       "      <td>-5.175912</td>\n",
       "      <td>0.953255</td>\n",
       "      <td>-2.522124</td>\n",
       "      <td>...</td>\n",
       "      <td>0.405043</td>\n",
       "      <td>0.466550</td>\n",
       "      <td>0.086639</td>\n",
       "      <td>-0.096464</td>\n",
       "      <td>-0.106643</td>\n",
       "      <td>0.040615</td>\n",
       "      <td>0.050456</td>\n",
       "      <td>0.213774</td>\n",
       "      <td>0.078270</td>\n",
       "      <td>123.871860</td>\n",
       "    </tr>\n",
       "  </tbody>\n",
       "</table>\n",
       "<p>2 rows × 30 columns</p>\n",
       "</div>"
      ],
      "text/plain": [
       "   Class        V1        V2        V3        V4        V5        V6  \\\n",
       "0      0 -0.029792 -0.008288  0.037131 -0.012054 -0.005596 -0.011768   \n",
       "1      1 -4.498280  3.405965 -6.729599  4.472591 -2.957197 -1.432518   \n",
       "\n",
       "         V7        V8        V9  ...       V20       V21       V22       V23  \\\n",
       "0  0.017497 -0.007346 -0.008050  ...  0.002717  0.001781  0.005689 -0.001779   \n",
       "1 -5.175912  0.953255 -2.522124  ...  0.405043  0.466550  0.086639 -0.096464   \n",
       "\n",
       "        V24       V25       V26       V27       V28      Amount  \n",
       "0 -0.006696 -0.004890 -0.000327  0.001557  0.000771   90.521154  \n",
       "1 -0.106643  0.040615  0.050456  0.213774  0.078270  123.871860  \n",
       "\n",
       "[2 rows x 30 columns]"
      ]
     },
     "execution_count": 10,
     "metadata": {},
     "output_type": "execute_result"
    }
   ],
   "source": [
    "df.groupby('Class').agg('mean').reset_index()"
   ]
  },
  {
   "cell_type": "code",
   "execution_count": 11,
   "metadata": {},
   "outputs": [
    {
     "data": {
      "text/html": [
       "<div>\n",
       "<style scoped>\n",
       "    .dataframe tbody tr th:only-of-type {\n",
       "        vertical-align: middle;\n",
       "    }\n",
       "\n",
       "    .dataframe tbody tr th {\n",
       "        vertical-align: top;\n",
       "    }\n",
       "\n",
       "    .dataframe thead th {\n",
       "        text-align: right;\n",
       "    }\n",
       "</style>\n",
       "<table border=\"1\" class=\"dataframe\">\n",
       "  <thead>\n",
       "    <tr style=\"text-align: right;\">\n",
       "      <th></th>\n",
       "      <th>V1</th>\n",
       "      <th>V2</th>\n",
       "      <th>V3</th>\n",
       "      <th>V4</th>\n",
       "      <th>V5</th>\n",
       "      <th>V6</th>\n",
       "      <th>V7</th>\n",
       "      <th>V8</th>\n",
       "      <th>V9</th>\n",
       "      <th>V10</th>\n",
       "      <th>...</th>\n",
       "      <th>V21</th>\n",
       "      <th>V22</th>\n",
       "      <th>V23</th>\n",
       "      <th>V24</th>\n",
       "      <th>V25</th>\n",
       "      <th>V26</th>\n",
       "      <th>V27</th>\n",
       "      <th>V28</th>\n",
       "      <th>Amount</th>\n",
       "      <th>Class</th>\n",
       "    </tr>\n",
       "  </thead>\n",
       "  <tbody>\n",
       "    <tr>\n",
       "      <th>197418</th>\n",
       "      <td>2.125583</td>\n",
       "      <td>-1.218413</td>\n",
       "      <td>-1.223323</td>\n",
       "      <td>-0.944670</td>\n",
       "      <td>-0.747042</td>\n",
       "      <td>-0.447428</td>\n",
       "      <td>-0.795058</td>\n",
       "      <td>-0.092597</td>\n",
       "      <td>0.268236</td>\n",
       "      <td>0.773379</td>\n",
       "      <td>...</td>\n",
       "      <td>0.154219</td>\n",
       "      <td>0.296289</td>\n",
       "      <td>0.009041</td>\n",
       "      <td>-1.021210</td>\n",
       "      <td>-0.081355</td>\n",
       "      <td>-0.118337</td>\n",
       "      <td>-0.028324</td>\n",
       "      <td>-0.054418</td>\n",
       "      <td>77.00</td>\n",
       "      <td>0</td>\n",
       "    </tr>\n",
       "    <tr>\n",
       "      <th>144467</th>\n",
       "      <td>-1.208132</td>\n",
       "      <td>1.193465</td>\n",
       "      <td>1.079276</td>\n",
       "      <td>-0.024208</td>\n",
       "      <td>-0.092767</td>\n",
       "      <td>-0.508047</td>\n",
       "      <td>0.294579</td>\n",
       "      <td>0.383045</td>\n",
       "      <td>-0.506560</td>\n",
       "      <td>-0.369748</td>\n",
       "      <td>...</td>\n",
       "      <td>-0.143177</td>\n",
       "      <td>-0.424021</td>\n",
       "      <td>0.239769</td>\n",
       "      <td>0.061885</td>\n",
       "      <td>-0.198150</td>\n",
       "      <td>0.084560</td>\n",
       "      <td>-0.080736</td>\n",
       "      <td>0.047373</td>\n",
       "      <td>10.78</td>\n",
       "      <td>0</td>\n",
       "    </tr>\n",
       "    <tr>\n",
       "      <th>74562</th>\n",
       "      <td>1.085681</td>\n",
       "      <td>-0.034836</td>\n",
       "      <td>1.406841</td>\n",
       "      <td>1.367242</td>\n",
       "      <td>-0.913172</td>\n",
       "      <td>0.087906</td>\n",
       "      <td>-0.594181</td>\n",
       "      <td>0.177649</td>\n",
       "      <td>0.787730</td>\n",
       "      <td>-0.261640</td>\n",
       "      <td>...</td>\n",
       "      <td>-0.006906</td>\n",
       "      <td>0.244098</td>\n",
       "      <td>0.058323</td>\n",
       "      <td>0.412093</td>\n",
       "      <td>0.315370</td>\n",
       "      <td>-0.400964</td>\n",
       "      <td>0.092722</td>\n",
       "      <td>0.039325</td>\n",
       "      <td>9.99</td>\n",
       "      <td>0</td>\n",
       "    </tr>\n",
       "    <tr>\n",
       "      <th>15950</th>\n",
       "      <td>-1.131488</td>\n",
       "      <td>0.309998</td>\n",
       "      <td>0.962530</td>\n",
       "      <td>-1.056051</td>\n",
       "      <td>1.976894</td>\n",
       "      <td>1.656518</td>\n",
       "      <td>0.372685</td>\n",
       "      <td>0.722463</td>\n",
       "      <td>-0.767661</td>\n",
       "      <td>-0.612447</td>\n",
       "      <td>...</td>\n",
       "      <td>-0.368569</td>\n",
       "      <td>-1.161899</td>\n",
       "      <td>0.115600</td>\n",
       "      <td>-2.241664</td>\n",
       "      <td>0.065591</td>\n",
       "      <td>0.100221</td>\n",
       "      <td>0.183350</td>\n",
       "      <td>0.006171</td>\n",
       "      <td>32.90</td>\n",
       "      <td>0</td>\n",
       "    </tr>\n",
       "    <tr>\n",
       "      <th>89122</th>\n",
       "      <td>1.477345</td>\n",
       "      <td>-0.387312</td>\n",
       "      <td>-0.623647</td>\n",
       "      <td>-1.017179</td>\n",
       "      <td>-0.084849</td>\n",
       "      <td>-0.477762</td>\n",
       "      <td>-0.168900</td>\n",
       "      <td>-0.181194</td>\n",
       "      <td>-1.301582</td>\n",
       "      <td>0.863743</td>\n",
       "      <td>...</td>\n",
       "      <td>0.170600</td>\n",
       "      <td>0.380699</td>\n",
       "      <td>-0.304712</td>\n",
       "      <td>-0.674766</td>\n",
       "      <td>0.894528</td>\n",
       "      <td>-0.036789</td>\n",
       "      <td>-0.036023</td>\n",
       "      <td>-0.019153</td>\n",
       "      <td>15.00</td>\n",
       "      <td>0</td>\n",
       "    </tr>\n",
       "  </tbody>\n",
       "</table>\n",
       "<p>5 rows × 30 columns</p>\n",
       "</div>"
      ],
      "text/plain": [
       "              V1        V2        V3        V4        V5        V6        V7  \\\n",
       "197418  2.125583 -1.218413 -1.223323 -0.944670 -0.747042 -0.447428 -0.795058   \n",
       "144467 -1.208132  1.193465  1.079276 -0.024208 -0.092767 -0.508047  0.294579   \n",
       "74562   1.085681 -0.034836  1.406841  1.367242 -0.913172  0.087906 -0.594181   \n",
       "15950  -1.131488  0.309998  0.962530 -1.056051  1.976894  1.656518  0.372685   \n",
       "89122   1.477345 -0.387312 -0.623647 -1.017179 -0.084849 -0.477762 -0.168900   \n",
       "\n",
       "              V8        V9       V10  ...       V21       V22       V23  \\\n",
       "197418 -0.092597  0.268236  0.773379  ...  0.154219  0.296289  0.009041   \n",
       "144467  0.383045 -0.506560 -0.369748  ... -0.143177 -0.424021  0.239769   \n",
       "74562   0.177649  0.787730 -0.261640  ... -0.006906  0.244098  0.058323   \n",
       "15950   0.722463 -0.767661 -0.612447  ... -0.368569 -1.161899  0.115600   \n",
       "89122  -0.181194 -1.301582  0.863743  ...  0.170600  0.380699 -0.304712   \n",
       "\n",
       "             V24       V25       V26       V27       V28  Amount  Class  \n",
       "197418 -1.021210 -0.081355 -0.118337 -0.028324 -0.054418   77.00      0  \n",
       "144467  0.061885 -0.198150  0.084560 -0.080736  0.047373   10.78      0  \n",
       "74562   0.412093  0.315370 -0.400964  0.092722  0.039325    9.99      0  \n",
       "15950  -2.241664  0.065591  0.100221  0.183350  0.006171   32.90      0  \n",
       "89122  -0.674766  0.894528 -0.036789 -0.036023 -0.019153   15.00      0  \n",
       "\n",
       "[5 rows x 30 columns]"
      ]
     },
     "execution_count": 11,
     "metadata": {},
     "output_type": "execute_result"
    }
   ],
   "source": [
    "normal_sample = normal.sample(n = 473)\n",
    "final_df = pd.concat([normal_sample, fraud], axis = 0)\n",
    "final_df.head()"
   ]
  },
  {
   "cell_type": "code",
   "execution_count": 12,
   "metadata": {},
   "outputs": [
    {
     "data": {
      "text/plain": [
       "0    473\n",
       "1    473\n",
       "Name: Class, dtype: int64"
      ]
     },
     "execution_count": 12,
     "metadata": {},
     "output_type": "execute_result"
    }
   ],
   "source": [
    "final_df[\"Class\"].value_counts()"
   ]
  },
  {
   "cell_type": "code",
   "execution_count": 13,
   "metadata": {},
   "outputs": [
    {
     "data": {
      "text/html": [
       "<div>\n",
       "<style scoped>\n",
       "    .dataframe tbody tr th:only-of-type {\n",
       "        vertical-align: middle;\n",
       "    }\n",
       "\n",
       "    .dataframe tbody tr th {\n",
       "        vertical-align: top;\n",
       "    }\n",
       "\n",
       "    .dataframe thead th {\n",
       "        text-align: right;\n",
       "    }\n",
       "</style>\n",
       "<table border=\"1\" class=\"dataframe\">\n",
       "  <thead>\n",
       "    <tr style=\"text-align: right;\">\n",
       "      <th></th>\n",
       "      <th>Class</th>\n",
       "      <th>V1</th>\n",
       "      <th>V2</th>\n",
       "      <th>V3</th>\n",
       "      <th>V4</th>\n",
       "      <th>V5</th>\n",
       "      <th>V6</th>\n",
       "      <th>V7</th>\n",
       "      <th>V8</th>\n",
       "      <th>V9</th>\n",
       "      <th>...</th>\n",
       "      <th>V20</th>\n",
       "      <th>V21</th>\n",
       "      <th>V22</th>\n",
       "      <th>V23</th>\n",
       "      <th>V24</th>\n",
       "      <th>V25</th>\n",
       "      <th>V26</th>\n",
       "      <th>V27</th>\n",
       "      <th>V28</th>\n",
       "      <th>Amount</th>\n",
       "    </tr>\n",
       "  </thead>\n",
       "  <tbody>\n",
       "    <tr>\n",
       "      <th>0</th>\n",
       "      <td>0</td>\n",
       "      <td>0.008793</td>\n",
       "      <td>-0.068911</td>\n",
       "      <td>0.092433</td>\n",
       "      <td>0.081579</td>\n",
       "      <td>0.011180</td>\n",
       "      <td>-0.026609</td>\n",
       "      <td>0.049121</td>\n",
       "      <td>-0.014614</td>\n",
       "      <td>-0.022285</td>\n",
       "      <td>...</td>\n",
       "      <td>-0.027769</td>\n",
       "      <td>-0.022282</td>\n",
       "      <td>0.066444</td>\n",
       "      <td>-0.032995</td>\n",
       "      <td>0.003143</td>\n",
       "      <td>-0.019196</td>\n",
       "      <td>0.022599</td>\n",
       "      <td>-0.008102</td>\n",
       "      <td>0.033825</td>\n",
       "      <td>88.591543</td>\n",
       "    </tr>\n",
       "    <tr>\n",
       "      <th>1</th>\n",
       "      <td>1</td>\n",
       "      <td>-4.498280</td>\n",
       "      <td>3.405965</td>\n",
       "      <td>-6.729599</td>\n",
       "      <td>4.472591</td>\n",
       "      <td>-2.957197</td>\n",
       "      <td>-1.432518</td>\n",
       "      <td>-5.175912</td>\n",
       "      <td>0.953255</td>\n",
       "      <td>-2.522124</td>\n",
       "      <td>...</td>\n",
       "      <td>0.405043</td>\n",
       "      <td>0.466550</td>\n",
       "      <td>0.086639</td>\n",
       "      <td>-0.096464</td>\n",
       "      <td>-0.106643</td>\n",
       "      <td>0.040615</td>\n",
       "      <td>0.050456</td>\n",
       "      <td>0.213774</td>\n",
       "      <td>0.078270</td>\n",
       "      <td>123.871860</td>\n",
       "    </tr>\n",
       "  </tbody>\n",
       "</table>\n",
       "<p>2 rows × 30 columns</p>\n",
       "</div>"
      ],
      "text/plain": [
       "   Class        V1        V2        V3        V4        V5        V6  \\\n",
       "0      0  0.008793 -0.068911  0.092433  0.081579  0.011180 -0.026609   \n",
       "1      1 -4.498280  3.405965 -6.729599  4.472591 -2.957197 -1.432518   \n",
       "\n",
       "         V7        V8        V9  ...       V20       V21       V22       V23  \\\n",
       "0  0.049121 -0.014614 -0.022285  ... -0.027769 -0.022282  0.066444 -0.032995   \n",
       "1 -5.175912  0.953255 -2.522124  ...  0.405043  0.466550  0.086639 -0.096464   \n",
       "\n",
       "        V24       V25       V26       V27       V28      Amount  \n",
       "0  0.003143 -0.019196  0.022599 -0.008102  0.033825   88.591543  \n",
       "1 -0.106643  0.040615  0.050456  0.213774  0.078270  123.871860  \n",
       "\n",
       "[2 rows x 30 columns]"
      ]
     },
     "execution_count": 13,
     "metadata": {},
     "output_type": "execute_result"
    }
   ],
   "source": [
    "final_df.groupby(\"Class\").agg(\"mean\").reset_index()"
   ]
  },
  {
   "cell_type": "markdown",
   "metadata": {},
   "source": [
    "Training and Testing Split"
   ]
  },
  {
   "cell_type": "code",
   "execution_count": 14,
   "metadata": {},
   "outputs": [
    {
     "name": "stdout",
     "output_type": "stream",
     "text": [
      "(946, 29)\n",
      "(946,)\n"
     ]
    }
   ],
   "source": [
    "X = final_df.drop('Class', axis = 1).values\n",
    "y = final_df[\"Class\"].values \n",
    "print(X.shape)\n",
    "print(y.shape)"
   ]
  },
  {
   "cell_type": "code",
   "execution_count": 15,
   "metadata": {},
   "outputs": [],
   "source": [
    "xTrain, xTest, yTrain, yTest = train_test_split(X, y, test_size = 0.2, stratify = y, random_state = 1)"
   ]
  },
  {
   "cell_type": "markdown",
   "metadata": {},
   "source": [
    "Testing Models"
   ]
  },
  {
   "cell_type": "markdown",
   "metadata": {},
   "source": [
    "Logistic Regression"
   ]
  },
  {
   "cell_type": "code",
   "execution_count": 16,
   "metadata": {},
   "outputs": [
    {
     "name": "stderr",
     "output_type": "stream",
     "text": [
      "/Library/Frameworks/Python.framework/Versions/3.10/lib/python3.10/site-packages/sklearn/linear_model/_logistic.py:444: ConvergenceWarning: lbfgs failed to converge (status=1):\n",
      "STOP: TOTAL NO. of ITERATIONS REACHED LIMIT.\n",
      "\n",
      "Increase the number of iterations (max_iter) or scale the data as shown in:\n",
      "    https://scikit-learn.org/stable/modules/preprocessing.html\n",
      "Please also refer to the documentation for alternative solver options:\n",
      "    https://scikit-learn.org/stable/modules/linear_model.html#logistic-regression\n",
      "  n_iter_i = _check_optimize_result(\n"
     ]
    }
   ],
   "source": [
    "lr = LogisticRegression()\n",
    "lr.fit(xTrain, yTrain)\n",
    "lr_predictions = lr.predict(xTest)"
   ]
  },
  {
   "cell_type": "code",
   "execution_count": 17,
   "metadata": {},
   "outputs": [
    {
     "name": "stdout",
     "output_type": "stream",
     "text": [
      "Accuracy Score of Logistic Regression Model is: 0.968421052631579\n",
      "F1 Score of Logistic Regression Model is: 0.967741935483871\n"
     ]
    }
   ],
   "source": [
    "print(\"Accuracy Score of Logistic Regression Model is: {}\".format(accuracy_score(yTest, lr_predictions)))\n",
    "print(\"F1 Score of Logistic Regression Model is: {}\".format(f1_score(yTest, lr_predictions)))"
   ]
  },
  {
   "cell_type": "code",
   "execution_count": 18,
   "metadata": {},
   "outputs": [
    {
     "data": {
      "text/plain": [
       "array([[94,  1],\n",
       "       [ 5, 90]])"
      ]
     },
     "execution_count": 18,
     "metadata": {},
     "output_type": "execute_result"
    }
   ],
   "source": [
    "confusion_matrix(yTest, lr_predictions, labels = [0, 1])"
   ]
  },
  {
   "cell_type": "markdown",
   "metadata": {},
   "source": [
    "Decision Tree"
   ]
  },
  {
   "cell_type": "code",
   "execution_count": 19,
   "metadata": {},
   "outputs": [],
   "source": [
    "dt = DecisionTreeClassifier(max_depth = 4, criterion = 'entropy')\n",
    "dt.fit(xTrain, yTrain)\n",
    "dt_predictions = dt.predict(xTest)"
   ]
  },
  {
   "cell_type": "code",
   "execution_count": 20,
   "metadata": {},
   "outputs": [
    {
     "name": "stdout",
     "output_type": "stream",
     "text": [
      "Accuracy Score of Decision Tree Model is: 0.9263157894736842\n",
      "F1 Score of Decision Tree Model is: 0.9230769230769231\n"
     ]
    }
   ],
   "source": [
    "print(\"Accuracy Score of Decision Tree Model is: {}\".format(accuracy_score(yTest, dt_predictions)))\n",
    "print(\"F1 Score of Decision Tree Model is: {}\".format(f1_score(yTest, dt_predictions)))"
   ]
  },
  {
   "cell_type": "code",
   "execution_count": 21,
   "metadata": {},
   "outputs": [
    {
     "data": {
      "text/plain": [
       "array([[92,  3],\n",
       "       [11, 84]])"
      ]
     },
     "execution_count": 21,
     "metadata": {},
     "output_type": "execute_result"
    }
   ],
   "source": [
    "confusion_matrix(yTest, dt_predictions, labels = [0, 1])"
   ]
  },
  {
   "cell_type": "markdown",
   "metadata": {},
   "source": [
    "KNN"
   ]
  },
  {
   "cell_type": "code",
   "execution_count": 22,
   "metadata": {},
   "outputs": [],
   "source": [
    "n = 7\n",
    "KNN = KNeighborsClassifier(n_neighbors = n)\n",
    "KNN.fit(xTrain, yTrain)\n",
    "knn_predictions = KNN.predict(xTest)"
   ]
  },
  {
   "cell_type": "code",
   "execution_count": 23,
   "metadata": {},
   "outputs": [
    {
     "name": "stdout",
     "output_type": "stream",
     "text": [
      "Accuracy Score of KNN Model is: 0.8842105263157894\n",
      "F1 Score of KNN Model is: 0.8804347826086957\n"
     ]
    }
   ],
   "source": [
    "print(\"Accuracy Score of KNN Model is: {}\".format(accuracy_score(yTest, knn_predictions)))\n",
    "print(\"F1 Score of KNN Model is: {}\".format(f1_score(yTest, knn_predictions)))"
   ]
  },
  {
   "cell_type": "code",
   "execution_count": 24,
   "metadata": {},
   "outputs": [
    {
     "data": {
      "text/plain": [
       "array([[87,  8],\n",
       "       [14, 81]])"
      ]
     },
     "execution_count": 24,
     "metadata": {},
     "output_type": "execute_result"
    }
   ],
   "source": [
    "confusion_matrix(yTest, knn_predictions, labels = [0, 1])"
   ]
  },
  {
   "cell_type": "markdown",
   "metadata": {},
   "source": [
    "SVM"
   ]
  },
  {
   "cell_type": "code",
   "execution_count": 25,
   "metadata": {},
   "outputs": [],
   "source": [
    "svm = SVC()\n",
    "svm.fit(xTrain, yTrain)\n",
    "svm_predictions = svm.predict(xTest)"
   ]
  },
  {
   "cell_type": "code",
   "execution_count": 26,
   "metadata": {},
   "outputs": [
    {
     "name": "stdout",
     "output_type": "stream",
     "text": [
      "Accuracy Score of SVM Model is: 0.8052631578947368\n",
      "F1 Score of SVM Model is: 0.7885714285714286\n"
     ]
    }
   ],
   "source": [
    "print(\"Accuracy Score of SVM Model is: {}\".format(accuracy_score(yTest, svm_predictions)))\n",
    "print(\"F1 Score of SVM Model is: {}\".format(f1_score(yTest, svm_predictions)))"
   ]
  },
  {
   "cell_type": "code",
   "execution_count": 27,
   "metadata": {},
   "outputs": [
    {
     "data": {
      "text/plain": [
       "array([[84, 11],\n",
       "       [26, 69]])"
      ]
     },
     "execution_count": 27,
     "metadata": {},
     "output_type": "execute_result"
    }
   ],
   "source": [
    "confusion_matrix(yTest, svm_predictions, labels = [0, 1])"
   ]
  },
  {
   "cell_type": "markdown",
   "metadata": {},
   "source": [
    "Random Forest "
   ]
  },
  {
   "cell_type": "code",
   "execution_count": 28,
   "metadata": {},
   "outputs": [],
   "source": [
    "rf = RandomForestClassifier(max_depth = 4)\n",
    "rf.fit(xTrain, yTrain)\n",
    "rf_predictions = rf.predict(xTest)"
   ]
  },
  {
   "cell_type": "code",
   "execution_count": 29,
   "metadata": {},
   "outputs": [
    {
     "name": "stdout",
     "output_type": "stream",
     "text": [
      "Accuracy Score of Random Forest Model is: 0.9631578947368421\n",
      "F1 Score of Random Forest Model is: 0.9621621621621621\n"
     ]
    }
   ],
   "source": [
    "print(\"Accuracy Score of Random Forest Model is: {}\".format(accuracy_score(yTest, rf_predictions)))\n",
    "print(\"F1 Score of Random Forest Model is: {}\".format(f1_score(yTest, rf_predictions)))"
   ]
  },
  {
   "cell_type": "code",
   "execution_count": 30,
   "metadata": {},
   "outputs": [
    {
     "data": {
      "text/plain": [
       "array([[94,  1],\n",
       "       [ 6, 89]])"
      ]
     },
     "execution_count": 30,
     "metadata": {},
     "output_type": "execute_result"
    }
   ],
   "source": [
    "confusion_matrix(yTest, rf_predictions, labels = [0, 1])"
   ]
  },
  {
   "cell_type": "markdown",
   "metadata": {},
   "source": [
    "Test on Whole Dataset "
   ]
  },
  {
   "cell_type": "code",
   "execution_count": 31,
   "metadata": {},
   "outputs": [],
   "source": [
    "total_x = df.drop('Class', axis = 1).values\n",
    "total_y = df[\"Class\"].values \n",
    "\n",
    "lr_pred = lr.predict(total_x)\n",
    "\n"
   ]
  },
  {
   "cell_type": "code",
   "execution_count": 32,
   "metadata": {},
   "outputs": [
    {
     "name": "stdout",
     "output_type": "stream",
     "text": [
      "Accuracy Score of Logistic Regression Model is: 0.9669923058226892\n",
      "F1 Score of Logistic Regression Model is: 0.08672086720867209\n"
     ]
    }
   ],
   "source": [
    "print(\"Accuracy Score of Logistic Regression Model is:{}\".format(accuracy_score(total_y, lr_pred)))\n",
    "print(\"F1 Score of Logistic Regression Model is: {}\".format(f1_score(total_y, lr_pred)))"
   ]
  },
  {
   "cell_type": "code",
   "execution_count": 33,
   "metadata": {},
   "outputs": [
    {
     "data": {
      "text/plain": [
       "array([[266132,   9058],\n",
       "       [    41,    432]])"
      ]
     },
     "execution_count": 33,
     "metadata": {},
     "output_type": "execute_result"
    }
   ],
   "source": [
    "confusion_matrix(total_y, lr_pred, labels = [0, 1])"
   ]
  }
 ],
 "metadata": {
  "kernelspec": {
   "display_name": "Python 3",
   "language": "python",
   "name": "python3"
  },
  "language_info": {
   "codemirror_mode": {
    "name": "ipython",
    "version": 3
   },
   "file_extension": ".py",
   "mimetype": "text/x-python",
   "name": "python",
   "nbconvert_exporter": "python",
   "pygments_lexer": "ipython3",
   "version": "3.10.6"
  },
  "orig_nbformat": 4
 },
 "nbformat": 4,
 "nbformat_minor": 2
}
